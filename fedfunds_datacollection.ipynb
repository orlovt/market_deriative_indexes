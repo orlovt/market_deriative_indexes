{
 "cells": [
  {
   "cell_type": "code",
   "execution_count": 39,
   "metadata": {},
   "outputs": [],
   "source": [
    "import pandas as pd \n",
    "import numpy as np \n",
    "import yfinance as yf\n",
    "import requests\n",
    "from bs4 import BeautifulSoup\n",
    "from datetime import datetime, timedelta\n"
   ]
  },
  {
   "cell_type": "markdown",
   "metadata": {},
   "source": [
    "methodology -  https://www.cmegroup.com/education/demos-and-tutorials/fed-funds-futures-probability-tree-calculator.html\n",
    "\n",
    "\n",
    "futures api - https://blog.quantinsti.com/download-futures-data-yahoo-finance-library-python/"
   ]
  },
  {
   "cell_type": "code",
   "execution_count": 56,
   "metadata": {},
   "outputs": [
    {
     "name": "stdout",
     "output_type": "stream",
     "text": [
      "[*********************100%***********************]  1 of 1 completed\n"
     ]
    },
    {
     "data": {
      "text/html": [
       "<div>\n",
       "<style scoped>\n",
       "    .dataframe tbody tr th:only-of-type {\n",
       "        vertical-align: middle;\n",
       "    }\n",
       "\n",
       "    .dataframe tbody tr th {\n",
       "        vertical-align: top;\n",
       "    }\n",
       "\n",
       "    .dataframe thead th {\n",
       "        text-align: right;\n",
       "    }\n",
       "</style>\n",
       "<table border=\"1\" class=\"dataframe\">\n",
       "  <thead>\n",
       "    <tr style=\"text-align: right;\">\n",
       "      <th></th>\n",
       "      <th>Open</th>\n",
       "      <th>High</th>\n",
       "      <th>Low</th>\n",
       "      <th>Close</th>\n",
       "      <th>Adj Close</th>\n",
       "      <th>Volume</th>\n",
       "    </tr>\n",
       "    <tr>\n",
       "      <th>Date</th>\n",
       "      <th></th>\n",
       "      <th></th>\n",
       "      <th></th>\n",
       "      <th></th>\n",
       "      <th></th>\n",
       "      <th></th>\n",
       "    </tr>\n",
       "  </thead>\n",
       "  <tbody>\n",
       "    <tr>\n",
       "      <th>2022-11-04</th>\n",
       "      <td>96.214996</td>\n",
       "      <td>96.217499</td>\n",
       "      <td>96.212502</td>\n",
       "      <td>96.214996</td>\n",
       "      <td>96.214996</td>\n",
       "      <td>40467</td>\n",
       "    </tr>\n",
       "    <tr>\n",
       "      <th>2022-11-07</th>\n",
       "      <td>96.214996</td>\n",
       "      <td>96.217499</td>\n",
       "      <td>96.214996</td>\n",
       "      <td>96.214996</td>\n",
       "      <td>96.214996</td>\n",
       "      <td>7539</td>\n",
       "    </tr>\n",
       "    <tr>\n",
       "      <th>2022-11-08</th>\n",
       "      <td>96.214996</td>\n",
       "      <td>96.217499</td>\n",
       "      <td>96.214996</td>\n",
       "      <td>96.217499</td>\n",
       "      <td>96.217499</td>\n",
       "      <td>7187</td>\n",
       "    </tr>\n",
       "  </tbody>\n",
       "</table>\n",
       "</div>"
      ],
      "text/plain": [
       "                 Open       High        Low      Close  Adj Close  Volume\n",
       "Date                                                                     \n",
       "2022-11-04  96.214996  96.217499  96.212502  96.214996  96.214996   40467\n",
       "2022-11-07  96.214996  96.217499  96.214996  96.214996  96.214996    7539\n",
       "2022-11-08  96.214996  96.217499  96.214996  96.217499  96.217499    7187"
      ]
     },
     "execution_count": 56,
     "metadata": {},
     "output_type": "execute_result"
    }
   ],
   "source": [
    "#parsin fed funds futures prices \n",
    "#https://blog.quantinsti.com/download-futures-data-yahoo-finance-library-python/\n",
    "futures_data = yf.download(\"ZQ=F\", start=\"2000-01-01\", end=\"2022-11-09\")\n",
    "futures_data.tail(3)"
   ]
  },
  {
   "cell_type": "code",
   "execution_count": 57,
   "metadata": {},
   "outputs": [
    {
     "data": {
      "text/html": [
       "<div>\n",
       "<style scoped>\n",
       "    .dataframe tbody tr th:only-of-type {\n",
       "        vertical-align: middle;\n",
       "    }\n",
       "\n",
       "    .dataframe tbody tr th {\n",
       "        vertical-align: top;\n",
       "    }\n",
       "\n",
       "    .dataframe thead th {\n",
       "        text-align: right;\n",
       "    }\n",
       "</style>\n",
       "<table border=\"1\" class=\"dataframe\">\n",
       "  <thead>\n",
       "    <tr style=\"text-align: right;\">\n",
       "      <th></th>\n",
       "      <th>date</th>\n",
       "      <th>price</th>\n",
       "    </tr>\n",
       "  </thead>\n",
       "  <tbody>\n",
       "    <tr>\n",
       "      <th>0</th>\n",
       "      <td>2000-09-01</td>\n",
       "      <td>93.474998</td>\n",
       "    </tr>\n",
       "    <tr>\n",
       "      <th>1</th>\n",
       "      <td>2000-09-05</td>\n",
       "      <td>93.474998</td>\n",
       "    </tr>\n",
       "    <tr>\n",
       "      <th>2</th>\n",
       "      <td>2000-09-06</td>\n",
       "      <td>93.474998</td>\n",
       "    </tr>\n",
       "    <tr>\n",
       "      <th>3</th>\n",
       "      <td>2000-09-07</td>\n",
       "      <td>93.474998</td>\n",
       "    </tr>\n",
       "    <tr>\n",
       "      <th>4</th>\n",
       "      <td>2000-09-08</td>\n",
       "      <td>93.474998</td>\n",
       "    </tr>\n",
       "  </tbody>\n",
       "</table>\n",
       "</div>"
      ],
      "text/plain": [
       "        date      price\n",
       "0 2000-09-01  93.474998\n",
       "1 2000-09-05  93.474998\n",
       "2 2000-09-06  93.474998\n",
       "3 2000-09-07  93.474998\n",
       "4 2000-09-08  93.474998"
      ]
     },
     "execution_count": 57,
     "metadata": {},
     "output_type": "execute_result"
    }
   ],
   "source": [
    "#data preparation fed funds futures \n",
    "del futures_data['Low']\n",
    "del futures_data['High']\n",
    "del futures_data['Adj Close']\n",
    "del futures_data['Volume']\n",
    "del futures_data['Open']\n",
    "\n",
    "\n",
    "futures_data.reset_index(inplace=True)\n",
    "futures_data.columns = ['date', 'price']\n",
    "#futures_data['date'] = futures_data['date'].apply(lambda x: datetime.strftime(x, \"%Y-%m-%d\"))\n",
    "\n",
    "fdf = futures_data.copy()\n",
    "fdf.head()"
   ]
  },
  {
   "cell_type": "code",
   "execution_count": 63,
   "metadata": {},
   "outputs": [],
   "source": [
    "#parsing dates and rate boundaries set by FOMC \n",
    "url = 'https://en.wikipedia.org/wiki/History_of_Federal_Open_Market_Committee_actions'\n",
    "html = requests.get(url).content\n",
    "df_list = pd.read_html(html)\n",
    "df = df_list[1]"
   ]
  },
  {
   "cell_type": "code",
   "execution_count": 64,
   "metadata": {},
   "outputs": [],
   "source": [
    "#function to get avg rate, instead of interval values\n",
    "\n",
    "def split_rate(s):\n",
    "    if chr(8211) in s:\n",
    "        wow = s.split(chr(8211))\n",
    "        s1 = wow[0][:-1]\n",
    "        s2 = wow[1][:-1]\n",
    "        return (float(s1) + float(s2)) / 2\n",
    "    else:\n",
    "        return float(s[:-1]) \n"
   ]
  },
  {
   "cell_type": "code",
   "execution_count": 65,
   "metadata": {},
   "outputs": [
    {
     "data": {
      "text/html": [
       "<div>\n",
       "<style scoped>\n",
       "    .dataframe tbody tr th:only-of-type {\n",
       "        vertical-align: middle;\n",
       "    }\n",
       "\n",
       "    .dataframe tbody tr th {\n",
       "        vertical-align: top;\n",
       "    }\n",
       "\n",
       "    .dataframe thead th {\n",
       "        text-align: right;\n",
       "    }\n",
       "</style>\n",
       "<table border=\"1\" class=\"dataframe\">\n",
       "  <thead>\n",
       "    <tr style=\"text-align: right;\">\n",
       "      <th></th>\n",
       "      <th>date</th>\n",
       "      <th>dow</th>\n",
       "      <th>r</th>\n",
       "    </tr>\n",
       "  </thead>\n",
       "  <tbody>\n",
       "    <tr>\n",
       "      <th>0</th>\n",
       "      <td>2022-11-02</td>\n",
       "      <td>2</td>\n",
       "      <td>3.875</td>\n",
       "    </tr>\n",
       "    <tr>\n",
       "      <th>1</th>\n",
       "      <td>2022-09-21</td>\n",
       "      <td>2</td>\n",
       "      <td>3.125</td>\n",
       "    </tr>\n",
       "    <tr>\n",
       "      <th>2</th>\n",
       "      <td>2022-07-27</td>\n",
       "      <td>2</td>\n",
       "      <td>2.375</td>\n",
       "    </tr>\n",
       "    <tr>\n",
       "      <th>3</th>\n",
       "      <td>2022-06-15</td>\n",
       "      <td>2</td>\n",
       "      <td>1.625</td>\n",
       "    </tr>\n",
       "    <tr>\n",
       "      <th>4</th>\n",
       "      <td>2022-05-04</td>\n",
       "      <td>2</td>\n",
       "      <td>0.875</td>\n",
       "    </tr>\n",
       "  </tbody>\n",
       "</table>\n",
       "</div>"
      ],
      "text/plain": [
       "        date  dow      r\n",
       "0 2022-11-02    2  3.875\n",
       "1 2022-09-21    2  3.125\n",
       "2 2022-07-27    2  2.375\n",
       "3 2022-06-15    2  1.625\n",
       "4 2022-05-04    2  0.875"
      ]
     },
     "execution_count": 65,
     "metadata": {},
     "output_type": "execute_result"
    }
   ],
   "source": [
    "#data prep and clean \n",
    "df['dt'] = df['Date'].apply(lambda x:datetime.strptime(x, '%B %d, %Y'))\n",
    "df['dow'] = df['dt'].apply(lambda x : datetime.weekday(x))\n",
    "\n",
    "#df['dt'] = df['dt'].apply(lambda x: datetime.strftime(x, \"%Y-%m-%d\"))\n",
    "\n",
    "del df ['Notes']\n",
    "del df['Date']\n",
    "del df['Discount Rate']\n",
    "del df['Votes']\n",
    "del df[\"Unnamed: 5\"]\n",
    "\n",
    "df.columns = ['ffr', 'date', 'dow']\n",
    "\n",
    "df['r'] = df['ffr'].apply(split_rate)\n",
    "del df['ffr']\n",
    "\n",
    "\n",
    "df.head()"
   ]
  },
  {
   "cell_type": "code",
   "execution_count": 66,
   "metadata": {},
   "outputs": [],
   "source": [
    "#adding day before and day after \n",
    "def N_filter(dt, dow):\n",
    "       \n",
    "        if dow >= 4: \n",
    "            return dt + timedelta(days=(7-dow))\n",
    "        else: \n",
    "            return dt + timedelta(days=1)\n",
    "\n",
    "def B_filter(dt, dow):\n",
    "       \n",
    "        if dow == 6: \n",
    "            return dt - timedelta(days=(2))\n",
    "        elif dow == 0:\n",
    "            return dt - timedelta(days=3) \n",
    "        else: \n",
    "            return dt - timedelta(days=1)\n",
    "\n",
    "\n",
    "df['NextDay'] = df.apply(lambda x: N_filter(x['date'], x['dow']), axis = 1)\n",
    "df['PrevDay'] = df.apply(lambda x: B_filter(x['date'], x['dow']), axis = 1)"
   ]
  },
  {
   "cell_type": "code",
   "execution_count": 67,
   "metadata": {},
   "outputs": [
    {
     "data": {
      "text/html": [
       "<div>\n",
       "<style scoped>\n",
       "    .dataframe tbody tr th:only-of-type {\n",
       "        vertical-align: middle;\n",
       "    }\n",
       "\n",
       "    .dataframe tbody tr th {\n",
       "        vertical-align: top;\n",
       "    }\n",
       "\n",
       "    .dataframe thead th {\n",
       "        text-align: right;\n",
       "    }\n",
       "</style>\n",
       "<table border=\"1\" class=\"dataframe\">\n",
       "  <thead>\n",
       "    <tr style=\"text-align: right;\">\n",
       "      <th></th>\n",
       "      <th>date</th>\n",
       "      <th>dow</th>\n",
       "      <th>r</th>\n",
       "      <th>NextDay</th>\n",
       "      <th>PrevDay</th>\n",
       "    </tr>\n",
       "  </thead>\n",
       "  <tbody>\n",
       "    <tr>\n",
       "      <th>0</th>\n",
       "      <td>2022-11-02</td>\n",
       "      <td>2</td>\n",
       "      <td>3.875</td>\n",
       "      <td>2022-11-03</td>\n",
       "      <td>2022-11-01</td>\n",
       "    </tr>\n",
       "    <tr>\n",
       "      <th>1</th>\n",
       "      <td>2022-09-21</td>\n",
       "      <td>2</td>\n",
       "      <td>3.125</td>\n",
       "      <td>2022-09-22</td>\n",
       "      <td>2022-09-20</td>\n",
       "    </tr>\n",
       "    <tr>\n",
       "      <th>2</th>\n",
       "      <td>2022-07-27</td>\n",
       "      <td>2</td>\n",
       "      <td>2.375</td>\n",
       "      <td>2022-07-28</td>\n",
       "      <td>2022-07-26</td>\n",
       "    </tr>\n",
       "    <tr>\n",
       "      <th>3</th>\n",
       "      <td>2022-06-15</td>\n",
       "      <td>2</td>\n",
       "      <td>1.625</td>\n",
       "      <td>2022-06-16</td>\n",
       "      <td>2022-06-14</td>\n",
       "    </tr>\n",
       "    <tr>\n",
       "      <th>4</th>\n",
       "      <td>2022-05-04</td>\n",
       "      <td>2</td>\n",
       "      <td>0.875</td>\n",
       "      <td>2022-05-05</td>\n",
       "      <td>2022-05-03</td>\n",
       "    </tr>\n",
       "    <tr>\n",
       "      <th>...</th>\n",
       "      <td>...</td>\n",
       "      <td>...</td>\n",
       "      <td>...</td>\n",
       "      <td>...</td>\n",
       "      <td>...</td>\n",
       "    </tr>\n",
       "    <tr>\n",
       "      <th>102</th>\n",
       "      <td>2000-08-22</td>\n",
       "      <td>1</td>\n",
       "      <td>6.500</td>\n",
       "      <td>2000-08-23</td>\n",
       "      <td>2000-08-21</td>\n",
       "    </tr>\n",
       "    <tr>\n",
       "      <th>103</th>\n",
       "      <td>2000-06-28</td>\n",
       "      <td>2</td>\n",
       "      <td>6.500</td>\n",
       "      <td>2000-06-29</td>\n",
       "      <td>2000-06-27</td>\n",
       "    </tr>\n",
       "    <tr>\n",
       "      <th>104</th>\n",
       "      <td>2000-05-16</td>\n",
       "      <td>1</td>\n",
       "      <td>6.500</td>\n",
       "      <td>2000-05-17</td>\n",
       "      <td>2000-05-15</td>\n",
       "    </tr>\n",
       "    <tr>\n",
       "      <th>105</th>\n",
       "      <td>2000-03-21</td>\n",
       "      <td>1</td>\n",
       "      <td>6.000</td>\n",
       "      <td>2000-03-22</td>\n",
       "      <td>2000-03-20</td>\n",
       "    </tr>\n",
       "    <tr>\n",
       "      <th>106</th>\n",
       "      <td>2000-02-02</td>\n",
       "      <td>2</td>\n",
       "      <td>5.750</td>\n",
       "      <td>2000-02-03</td>\n",
       "      <td>2000-02-01</td>\n",
       "    </tr>\n",
       "  </tbody>\n",
       "</table>\n",
       "<p>107 rows × 5 columns</p>\n",
       "</div>"
      ],
      "text/plain": [
       "          date  dow      r    NextDay    PrevDay\n",
       "0   2022-11-02    2  3.875 2022-11-03 2022-11-01\n",
       "1   2022-09-21    2  3.125 2022-09-22 2022-09-20\n",
       "2   2022-07-27    2  2.375 2022-07-28 2022-07-26\n",
       "3   2022-06-15    2  1.625 2022-06-16 2022-06-14\n",
       "4   2022-05-04    2  0.875 2022-05-05 2022-05-03\n",
       "..         ...  ...    ...        ...        ...\n",
       "102 2000-08-22    1  6.500 2000-08-23 2000-08-21\n",
       "103 2000-06-28    2  6.500 2000-06-29 2000-06-27\n",
       "104 2000-05-16    1  6.500 2000-05-17 2000-05-15\n",
       "105 2000-03-21    1  6.000 2000-03-22 2000-03-20\n",
       "106 2000-02-02    2  5.750 2000-02-03 2000-02-01\n",
       "\n",
       "[107 rows x 5 columns]"
      ]
     },
     "execution_count": 67,
     "metadata": {},
     "output_type": "execute_result"
    }
   ],
   "source": [
    "df"
   ]
  },
  {
   "cell_type": "code",
   "execution_count": 71,
   "metadata": {},
   "outputs": [],
   "source": [
    "#creating a dictionary with futures prices \n",
    "\n",
    "fdf['date'] = fdf['date'].apply(lambda x: datetime.strftime(x, \"%Y-%m-%d\"))\n",
    "\n",
    "priceoffutures_dict = {}\n",
    "for i in range(fdf.shape[0]):\n",
    "    priceoffutures_dict[fdf['date'][i]] = fdf['price'][i]"
   ]
  },
  {
   "cell_type": "code",
   "execution_count": 80,
   "metadata": {},
   "outputs": [],
   "source": [
    "def rowinpriceoffutures(i):\n",
    "    for j in range(len(fdf['date'])):\n",
    "        if fdf['date'][j] > i:\n",
    "            return j-1\n",
    "    return -1"
   ]
  },
  {
   "cell_type": "code",
   "execution_count": 81,
   "metadata": {},
   "outputs": [],
   "source": [
    "df['rowinpriceoffutures'] = df['date'].apply(lambda x : rowinpriceoffutures(x))"
   ]
  },
  {
   "cell_type": "code",
   "execution_count": 88,
   "metadata": {},
   "outputs": [],
   "source": [
    "test_df = df.copy()\n",
    "#test_fdf['date'] = test_fdf['date'].apply(lambda x: datetime.strftime(x, \"%Y-%m-%d\"))\n",
    "\n",
    "test_df['date'] = test_df['date'].apply(lambda x: datetime.strftime(x, \"%Y-%m-%d\"))\n",
    "test_df['NextDay'] = test_df['NextDay'].apply(lambda x: datetime.strftime(x, \"%Y-%m-%d\"))\n",
    "test_df['PrevDay'] = test_df['PrevDay'].apply(lambda x: datetime.strftime(x, \"%Y-%m-%d\"))\n",
    "\n"
   ]
  },
  {
   "cell_type": "code",
   "execution_count": 90,
   "metadata": {},
   "outputs": [
    {
     "data": {
      "text/plain": [
       "0      2022-11-02\n",
       "1      2022-09-21\n",
       "2      2022-07-27\n",
       "3      2022-06-15\n",
       "4      2022-05-04\n",
       "          ...    \n",
       "102    2000-08-22\n",
       "103    2000-06-28\n",
       "104    2000-05-16\n",
       "105    2000-03-21\n",
       "106    2000-02-02\n",
       "Name: date, Length: 107, dtype: object"
      ]
     },
     "execution_count": 90,
     "metadata": {},
     "output_type": "execute_result"
    }
   ],
   "source": []
  },
  {
   "cell_type": "code",
   "execution_count": 93,
   "metadata": {},
   "outputs": [
    {
     "ename": "KeyError",
     "evalue": "'2020-03-15'",
     "output_type": "error",
     "traceback": [
      "\u001b[0;31m---------------------------------------------------------------------------\u001b[0m",
      "\u001b[0;31mKeyError\u001b[0m                                  Traceback (most recent call last)",
      "Cell \u001b[0;32mIn [93], line 1\u001b[0m\n\u001b[0;32m----> 1\u001b[0m test_df[\u001b[39m'\u001b[39m\u001b[39mRate\u001b[39m\u001b[39m'\u001b[39m] \u001b[39m=\u001b[39m test_df[\u001b[39m'\u001b[39;49m\u001b[39mdate\u001b[39;49m\u001b[39m'\u001b[39;49m]\u001b[39m.\u001b[39;49mapply(\u001b[39mlambda\u001b[39;49;00m x : priceoffutures_dict[x])\n",
      "File \u001b[0;32m~/opt/anaconda3/lib/python3.8/site-packages/pandas/core/series.py:4200\u001b[0m, in \u001b[0;36mSeries.apply\u001b[0;34m(self, func, convert_dtype, args, **kwds)\u001b[0m\n\u001b[1;32m   4198\u001b[0m     \u001b[39melse\u001b[39;00m:\n\u001b[1;32m   4199\u001b[0m         values \u001b[39m=\u001b[39m \u001b[39mself\u001b[39m\u001b[39m.\u001b[39mastype(\u001b[39mobject\u001b[39m)\u001b[39m.\u001b[39m_values\n\u001b[0;32m-> 4200\u001b[0m         mapped \u001b[39m=\u001b[39m lib\u001b[39m.\u001b[39;49mmap_infer(values, f, convert\u001b[39m=\u001b[39;49mconvert_dtype)\n\u001b[1;32m   4202\u001b[0m \u001b[39mif\u001b[39;00m \u001b[39mlen\u001b[39m(mapped) \u001b[39mand\u001b[39;00m \u001b[39misinstance\u001b[39m(mapped[\u001b[39m0\u001b[39m], Series):\n\u001b[1;32m   4203\u001b[0m     \u001b[39m# GH 25959 use pd.array instead of tolist\u001b[39;00m\n\u001b[1;32m   4204\u001b[0m     \u001b[39m# so extension arrays can be used\u001b[39;00m\n\u001b[1;32m   4205\u001b[0m     \u001b[39mreturn\u001b[39;00m \u001b[39mself\u001b[39m\u001b[39m.\u001b[39m_constructor_expanddim(pd\u001b[39m.\u001b[39marray(mapped), index\u001b[39m=\u001b[39m\u001b[39mself\u001b[39m\u001b[39m.\u001b[39mindex)\n",
      "File \u001b[0;32mpandas/_libs/lib.pyx:2402\u001b[0m, in \u001b[0;36mpandas._libs.lib.map_infer\u001b[0;34m()\u001b[0m\n",
      "Cell \u001b[0;32mIn [93], line 1\u001b[0m, in \u001b[0;36m<lambda>\u001b[0;34m(x)\u001b[0m\n\u001b[0;32m----> 1\u001b[0m test_df[\u001b[39m'\u001b[39m\u001b[39mRate\u001b[39m\u001b[39m'\u001b[39m] \u001b[39m=\u001b[39m test_df[\u001b[39m'\u001b[39m\u001b[39mdate\u001b[39m\u001b[39m'\u001b[39m]\u001b[39m.\u001b[39mapply(\u001b[39mlambda\u001b[39;00m x : priceoffutures_dict[x])\n",
      "\u001b[0;31mKeyError\u001b[0m: '2020-03-15'"
     ]
    }
   ],
   "source": [
    "test_df['Rate'] = test_df['date'].apply(lambda x : priceoffutures_dict[x])"
   ]
  },
  {
   "cell_type": "code",
   "execution_count": 96,
   "metadata": {},
   "outputs": [
    {
     "data": {
      "text/plain": [
       "99.27999877929688"
      ]
     },
     "execution_count": 96,
     "metadata": {},
     "output_type": "execute_result"
    }
   ],
   "source": [
    "priceoffutures_dict['2020-03-13']"
   ]
  },
  {
   "cell_type": "code",
   "execution_count": 27,
   "metadata": {},
   "outputs": [
    {
     "ename": "KeyError",
     "evalue": "Timestamp('2008-01-21 00:00:00')",
     "output_type": "error",
     "traceback": [
      "\u001b[0;31m---------------------------------------------------------------------------\u001b[0m",
      "\u001b[0;31mKeyError\u001b[0m                                  Traceback (most recent call last)",
      "Cell \u001b[0;32mIn [27], line 1\u001b[0m\n\u001b[0;32m----> 1\u001b[0m t_m[\u001b[39m'\u001b[39m\u001b[39mRatedaybefore\u001b[39m\u001b[39m'\u001b[39m] \u001b[39m=\u001b[39m t_m[\u001b[39m'\u001b[39;49m\u001b[39mbd\u001b[39;49m\u001b[39m'\u001b[39;49m]\u001b[39m.\u001b[39;49mapply(\u001b[39mlambda\u001b[39;49;00m x : priceoffutures_dict[x])\n",
      "File \u001b[0;32m~/opt/anaconda3/lib/python3.8/site-packages/pandas/core/series.py:4200\u001b[0m, in \u001b[0;36mSeries.apply\u001b[0;34m(self, func, convert_dtype, args, **kwds)\u001b[0m\n\u001b[1;32m   4198\u001b[0m     \u001b[39melse\u001b[39;00m:\n\u001b[1;32m   4199\u001b[0m         values \u001b[39m=\u001b[39m \u001b[39mself\u001b[39m\u001b[39m.\u001b[39mastype(\u001b[39mobject\u001b[39m)\u001b[39m.\u001b[39m_values\n\u001b[0;32m-> 4200\u001b[0m         mapped \u001b[39m=\u001b[39m lib\u001b[39m.\u001b[39;49mmap_infer(values, f, convert\u001b[39m=\u001b[39;49mconvert_dtype)\n\u001b[1;32m   4202\u001b[0m \u001b[39mif\u001b[39;00m \u001b[39mlen\u001b[39m(mapped) \u001b[39mand\u001b[39;00m \u001b[39misinstance\u001b[39m(mapped[\u001b[39m0\u001b[39m], Series):\n\u001b[1;32m   4203\u001b[0m     \u001b[39m# GH 25959 use pd.array instead of tolist\u001b[39;00m\n\u001b[1;32m   4204\u001b[0m     \u001b[39m# so extension arrays can be used\u001b[39;00m\n\u001b[1;32m   4205\u001b[0m     \u001b[39mreturn\u001b[39;00m \u001b[39mself\u001b[39m\u001b[39m.\u001b[39m_constructor_expanddim(pd\u001b[39m.\u001b[39marray(mapped), index\u001b[39m=\u001b[39m\u001b[39mself\u001b[39m\u001b[39m.\u001b[39mindex)\n",
      "File \u001b[0;32mpandas/_libs/lib.pyx:2402\u001b[0m, in \u001b[0;36mpandas._libs.lib.map_infer\u001b[0;34m()\u001b[0m\n",
      "Cell \u001b[0;32mIn [27], line 1\u001b[0m, in \u001b[0;36m<lambda>\u001b[0;34m(x)\u001b[0m\n\u001b[0;32m----> 1\u001b[0m t_m[\u001b[39m'\u001b[39m\u001b[39mRatedaybefore\u001b[39m\u001b[39m'\u001b[39m] \u001b[39m=\u001b[39m t_m[\u001b[39m'\u001b[39m\u001b[39mbd\u001b[39m\u001b[39m'\u001b[39m]\u001b[39m.\u001b[39mapply(\u001b[39mlambda\u001b[39;00m x : priceoffutures_dict[x])\n",
      "\u001b[0;31mKeyError\u001b[0m: Timestamp('2008-01-21 00:00:00')"
     ]
    }
   ],
   "source": [
    "t_m['Ratedaybefore'] = t_m['bd'].apply(lambda x : priceoffutures_dict[x])"
   ]
  },
  {
   "cell_type": "code",
   "execution_count": null,
   "metadata": {},
   "outputs": [],
   "source": [
    "priceoffutures_dict = {}\n",
    "for i in range(priceoffutures.shape[0]):\n",
    "    priceoffutures_dict[priceoffutures['Date'][i]] = priceoffutures[' value'][i]"
   ]
  },
  {
   "cell_type": "code",
   "execution_count": 20,
   "metadata": {},
   "outputs": [
    {
     "data": {
      "text/html": [
       "<div>\n",
       "<style scoped>\n",
       "    .dataframe tbody tr th:only-of-type {\n",
       "        vertical-align: middle;\n",
       "    }\n",
       "\n",
       "    .dataframe tbody tr th {\n",
       "        vertical-align: top;\n",
       "    }\n",
       "\n",
       "    .dataframe thead th {\n",
       "        text-align: right;\n",
       "    }\n",
       "</style>\n",
       "<table border=\"1\" class=\"dataframe\">\n",
       "  <thead>\n",
       "    <tr style=\"text-align: right;\">\n",
       "      <th></th>\n",
       "      <th>dt</th>\n",
       "      <th>p</th>\n",
       "      <th>rowinpriceoffutures</th>\n",
       "    </tr>\n",
       "  </thead>\n",
       "  <tbody>\n",
       "    <tr>\n",
       "      <th>0</th>\n",
       "      <td>2000-09-01</td>\n",
       "      <td>93.474998</td>\n",
       "      <td>0</td>\n",
       "    </tr>\n",
       "    <tr>\n",
       "      <th>1</th>\n",
       "      <td>2000-09-05</td>\n",
       "      <td>93.474998</td>\n",
       "      <td>1</td>\n",
       "    </tr>\n",
       "    <tr>\n",
       "      <th>2</th>\n",
       "      <td>2000-09-06</td>\n",
       "      <td>93.474998</td>\n",
       "      <td>2</td>\n",
       "    </tr>\n",
       "    <tr>\n",
       "      <th>3</th>\n",
       "      <td>2000-09-07</td>\n",
       "      <td>93.474998</td>\n",
       "      <td>3</td>\n",
       "    </tr>\n",
       "    <tr>\n",
       "      <th>4</th>\n",
       "      <td>2000-09-08</td>\n",
       "      <td>93.474998</td>\n",
       "      <td>4</td>\n",
       "    </tr>\n",
       "    <tr>\n",
       "      <th>...</th>\n",
       "      <td>...</td>\n",
       "      <td>...</td>\n",
       "      <td>...</td>\n",
       "    </tr>\n",
       "    <tr>\n",
       "      <th>5549</th>\n",
       "      <td>2022-11-02</td>\n",
       "      <td>96.217499</td>\n",
       "      <td>5549</td>\n",
       "    </tr>\n",
       "    <tr>\n",
       "      <th>5550</th>\n",
       "      <td>2022-11-03</td>\n",
       "      <td>96.214996</td>\n",
       "      <td>5550</td>\n",
       "    </tr>\n",
       "    <tr>\n",
       "      <th>5551</th>\n",
       "      <td>2022-11-04</td>\n",
       "      <td>96.214996</td>\n",
       "      <td>5551</td>\n",
       "    </tr>\n",
       "    <tr>\n",
       "      <th>5552</th>\n",
       "      <td>2022-11-07</td>\n",
       "      <td>96.214996</td>\n",
       "      <td>5552</td>\n",
       "    </tr>\n",
       "    <tr>\n",
       "      <th>5553</th>\n",
       "      <td>2022-11-08</td>\n",
       "      <td>96.217499</td>\n",
       "      <td>-1</td>\n",
       "    </tr>\n",
       "  </tbody>\n",
       "</table>\n",
       "<p>5554 rows × 3 columns</p>\n",
       "</div>"
      ],
      "text/plain": [
       "             dt          p  rowinpriceoffutures\n",
       "0    2000-09-01  93.474998                    0\n",
       "1    2000-09-05  93.474998                    1\n",
       "2    2000-09-06  93.474998                    2\n",
       "3    2000-09-07  93.474998                    3\n",
       "4    2000-09-08  93.474998                    4\n",
       "...         ...        ...                  ...\n",
       "5549 2022-11-02  96.217499                 5549\n",
       "5550 2022-11-03  96.214996                 5550\n",
       "5551 2022-11-04  96.214996                 5551\n",
       "5552 2022-11-07  96.214996                 5552\n",
       "5553 2022-11-08  96.217499                   -1\n",
       "\n",
       "[5554 rows x 3 columns]"
      ]
     },
     "execution_count": 20,
     "metadata": {},
     "output_type": "execute_result"
    }
   ],
   "source": [
    "t_f"
   ]
  },
  {
   "cell_type": "code",
   "execution_count": null,
   "metadata": {},
   "outputs": [],
   "source": []
  },
  {
   "cell_type": "code",
   "execution_count": null,
   "metadata": {},
   "outputs": [],
   "source": []
  },
  {
   "cell_type": "code",
   "execution_count": null,
   "metadata": {},
   "outputs": [],
   "source": []
  },
  {
   "cell_type": "code",
   "execution_count": 203,
   "metadata": {},
   "outputs": [
    {
     "ename": "KeyError",
     "evalue": "Timestamp('2020-03-15 00:00:00')",
     "output_type": "error",
     "traceback": [
      "\u001b[0;31m---------------------------------------------------------------------------\u001b[0m",
      "\u001b[0;31mKeyError\u001b[0m                                  Traceback (most recent call last)",
      "Cell \u001b[0;32mIn [203], line 1\u001b[0m\n\u001b[0;32m----> 1\u001b[0m tdf[\u001b[38;5;124m'\u001b[39m\u001b[38;5;124mp\u001b[39m\u001b[38;5;124m'\u001b[39m] \u001b[38;5;241m=\u001b[39m \u001b[43mtdf\u001b[49m\u001b[43m[\u001b[49m\u001b[38;5;124;43m'\u001b[39;49m\u001b[38;5;124;43mdt\u001b[39;49m\u001b[38;5;124;43m'\u001b[39;49m\u001b[43m]\u001b[49m\u001b[38;5;241;43m.\u001b[39;49m\u001b[43mapply\u001b[49m\u001b[43m(\u001b[49m\u001b[38;5;28;43;01mlambda\u001b[39;49;00m\u001b[43m \u001b[49m\u001b[43mx\u001b[49m\u001b[43m:\u001b[49m\u001b[43m \u001b[49m\u001b[43mpriceoffutures_dict\u001b[49m\u001b[43m[\u001b[49m\u001b[43mx\u001b[49m\u001b[43m]\u001b[49m\u001b[43m)\u001b[49m\n",
      "File \u001b[0;32m~/opt/anaconda3/lib/python3.8/site-packages/pandas/core/series.py:4200\u001b[0m, in \u001b[0;36mSeries.apply\u001b[0;34m(self, func, convert_dtype, args, **kwds)\u001b[0m\n\u001b[1;32m   4198\u001b[0m     \u001b[39melse\u001b[39;00m:\n\u001b[1;32m   4199\u001b[0m         values \u001b[39m=\u001b[39m \u001b[39mself\u001b[39m\u001b[39m.\u001b[39mastype(\u001b[39mobject\u001b[39m)\u001b[39m.\u001b[39m_values\n\u001b[0;32m-> 4200\u001b[0m         mapped \u001b[39m=\u001b[39m lib\u001b[39m.\u001b[39;49mmap_infer(values, f, convert\u001b[39m=\u001b[39;49mconvert_dtype)\n\u001b[1;32m   4202\u001b[0m \u001b[39mif\u001b[39;00m \u001b[39mlen\u001b[39m(mapped) \u001b[39mand\u001b[39;00m \u001b[39misinstance\u001b[39m(mapped[\u001b[39m0\u001b[39m], Series):\n\u001b[1;32m   4203\u001b[0m     \u001b[39m# GH 25959 use pd.array instead of tolist\u001b[39;00m\n\u001b[1;32m   4204\u001b[0m     \u001b[39m# so extension arrays can be used\u001b[39;00m\n\u001b[1;32m   4205\u001b[0m     \u001b[39mreturn\u001b[39;00m \u001b[39mself\u001b[39m\u001b[39m.\u001b[39m_constructor_expanddim(pd\u001b[39m.\u001b[39marray(mapped), index\u001b[39m=\u001b[39m\u001b[39mself\u001b[39m\u001b[39m.\u001b[39mindex)\n",
      "File \u001b[0;32mpandas/_libs/lib.pyx:2402\u001b[0m, in \u001b[0;36mpandas._libs.lib.map_infer\u001b[0;34m()\u001b[0m\n",
      "Cell \u001b[0;32mIn [203], line 1\u001b[0m, in \u001b[0;36m<lambda>\u001b[0;34m(x)\u001b[0m\n\u001b[0;32m----> 1\u001b[0m tdf[\u001b[38;5;124m'\u001b[39m\u001b[38;5;124mp\u001b[39m\u001b[38;5;124m'\u001b[39m] \u001b[38;5;241m=\u001b[39m tdf[\u001b[38;5;124m'\u001b[39m\u001b[38;5;124mdt\u001b[39m\u001b[38;5;124m'\u001b[39m]\u001b[38;5;241m.\u001b[39mapply(\u001b[38;5;28;01mlambda\u001b[39;00m x: \u001b[43mpriceoffutures_dict\u001b[49m\u001b[43m[\u001b[49m\u001b[43mx\u001b[49m\u001b[43m]\u001b[49m)\n",
      "\u001b[0;31mKeyError\u001b[0m: Timestamp('2020-03-15 00:00:00')"
     ]
    }
   ],
   "source": [
    "tdf['p'] = tdf['dt'].apply(lambda x: priceoffutures_dict[x])\n",
    "#tdf['_p'] = tdf['bd'].apply(lambda x: priceoffutures_dict[x])\n",
    "#tdf['p_'] = tdf['nd'].apply(lambda x: priceoffutures_dict[x])\n",
    "\n"
   ]
  },
  {
   "cell_type": "code",
   "execution_count": null,
   "metadata": {},
   "outputs": [],
   "source": []
  }
 ],
 "metadata": {
  "kernelspec": {
   "display_name": "Python 3 (ipykernel)",
   "language": "python",
   "name": "python3"
  },
  "language_info": {
   "codemirror_mode": {
    "name": "ipython",
    "version": 3
   },
   "file_extension": ".py",
   "mimetype": "text/x-python",
   "name": "python",
   "nbconvert_exporter": "python",
   "pygments_lexer": "ipython3",
   "version": "3.8.5"
  },
  "vscode": {
   "interpreter": {
    "hash": "299788cdfb4ccb82fb4a8515b6fdc57e1f1020095d820d2e6ce895ac7909e7df"
   }
  }
 },
 "nbformat": 4,
 "nbformat_minor": 4
}
