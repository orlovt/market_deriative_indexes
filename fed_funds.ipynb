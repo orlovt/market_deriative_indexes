{
 "cells": [
  {
   "cell_type": "code",
   "execution_count": 15,
   "metadata": {},
   "outputs": [],
   "source": [
    "import pandas as pd \n",
    "import yfinance as yf"
   ]
  },
  {
   "cell_type": "code",
   "execution_count": 16,
   "metadata": {},
   "outputs": [
    {
     "name": "stdout",
     "output_type": "stream",
     "text": [
      "[*********************100%***********************]  1 of 1 completed\n"
     ]
    }
   ],
   "source": [
    "#https://blog.quantinsti.com/download-futures-data-yahoo-finance-library-python/\n",
    "futures_data = yf.download(\"ZQ=F\", start=\"2000-01-01\", end=\"2022-11-09\")"
   ]
  },
  {
   "cell_type": "code",
   "execution_count": 18,
   "metadata": {},
   "outputs": [
    {
     "data": {
      "text/html": [
       "<div>\n",
       "<style scoped>\n",
       "    .dataframe tbody tr th:only-of-type {\n",
       "        vertical-align: middle;\n",
       "    }\n",
       "\n",
       "    .dataframe tbody tr th {\n",
       "        vertical-align: top;\n",
       "    }\n",
       "\n",
       "    .dataframe thead th {\n",
       "        text-align: right;\n",
       "    }\n",
       "</style>\n",
       "<table border=\"1\" class=\"dataframe\">\n",
       "  <thead>\n",
       "    <tr style=\"text-align: right;\">\n",
       "      <th></th>\n",
       "      <th>Open</th>\n",
       "      <th>High</th>\n",
       "      <th>Low</th>\n",
       "      <th>Close</th>\n",
       "      <th>Adj Close</th>\n",
       "      <th>Volume</th>\n",
       "    </tr>\n",
       "    <tr>\n",
       "      <th>Date</th>\n",
       "      <th></th>\n",
       "      <th></th>\n",
       "      <th></th>\n",
       "      <th></th>\n",
       "      <th></th>\n",
       "      <th></th>\n",
       "    </tr>\n",
       "  </thead>\n",
       "  <tbody>\n",
       "    <tr>\n",
       "      <th>2022-10-26</th>\n",
       "      <td>96.919998</td>\n",
       "      <td>96.922501</td>\n",
       "      <td>96.917503</td>\n",
       "      <td>96.917503</td>\n",
       "      <td>96.917503</td>\n",
       "      <td>34903</td>\n",
       "    </tr>\n",
       "    <tr>\n",
       "      <th>2022-10-27</th>\n",
       "      <td>96.917503</td>\n",
       "      <td>96.922501</td>\n",
       "      <td>96.917503</td>\n",
       "      <td>96.917503</td>\n",
       "      <td>96.917503</td>\n",
       "      <td>4710</td>\n",
       "    </tr>\n",
       "    <tr>\n",
       "      <th>2022-10-28</th>\n",
       "      <td>96.919998</td>\n",
       "      <td>96.919998</td>\n",
       "      <td>96.917503</td>\n",
       "      <td>96.917503</td>\n",
       "      <td>96.917503</td>\n",
       "      <td>1271</td>\n",
       "    </tr>\n",
       "    <tr>\n",
       "      <th>2022-10-31</th>\n",
       "      <td>96.919998</td>\n",
       "      <td>96.922501</td>\n",
       "      <td>96.919998</td>\n",
       "      <td>96.919998</td>\n",
       "      <td>96.919998</td>\n",
       "      <td>49614</td>\n",
       "    </tr>\n",
       "    <tr>\n",
       "      <th>2022-11-01</th>\n",
       "      <td>96.217499</td>\n",
       "      <td>96.217499</td>\n",
       "      <td>96.214996</td>\n",
       "      <td>96.214996</td>\n",
       "      <td>96.214996</td>\n",
       "      <td>37432</td>\n",
       "    </tr>\n",
       "    <tr>\n",
       "      <th>2022-11-02</th>\n",
       "      <td>96.217499</td>\n",
       "      <td>96.217499</td>\n",
       "      <td>96.212502</td>\n",
       "      <td>96.217499</td>\n",
       "      <td>96.217499</td>\n",
       "      <td>137926</td>\n",
       "    </tr>\n",
       "    <tr>\n",
       "      <th>2022-11-03</th>\n",
       "      <td>96.217499</td>\n",
       "      <td>96.217499</td>\n",
       "      <td>96.214996</td>\n",
       "      <td>96.214996</td>\n",
       "      <td>96.214996</td>\n",
       "      <td>47799</td>\n",
       "    </tr>\n",
       "    <tr>\n",
       "      <th>2022-11-04</th>\n",
       "      <td>96.214996</td>\n",
       "      <td>96.217499</td>\n",
       "      <td>96.212502</td>\n",
       "      <td>96.214996</td>\n",
       "      <td>96.214996</td>\n",
       "      <td>40467</td>\n",
       "    </tr>\n",
       "    <tr>\n",
       "      <th>2022-11-07</th>\n",
       "      <td>96.214996</td>\n",
       "      <td>96.217499</td>\n",
       "      <td>96.214996</td>\n",
       "      <td>96.214996</td>\n",
       "      <td>96.214996</td>\n",
       "      <td>7539</td>\n",
       "    </tr>\n",
       "    <tr>\n",
       "      <th>2022-11-08</th>\n",
       "      <td>96.214996</td>\n",
       "      <td>96.217499</td>\n",
       "      <td>96.214996</td>\n",
       "      <td>96.217499</td>\n",
       "      <td>96.217499</td>\n",
       "      <td>7539</td>\n",
       "    </tr>\n",
       "  </tbody>\n",
       "</table>\n",
       "</div>"
      ],
      "text/plain": [
       "                 Open       High        Low      Close  Adj Close  Volume\n",
       "Date                                                                     \n",
       "2022-10-26  96.919998  96.922501  96.917503  96.917503  96.917503   34903\n",
       "2022-10-27  96.917503  96.922501  96.917503  96.917503  96.917503    4710\n",
       "2022-10-28  96.919998  96.919998  96.917503  96.917503  96.917503    1271\n",
       "2022-10-31  96.919998  96.922501  96.919998  96.919998  96.919998   49614\n",
       "2022-11-01  96.217499  96.217499  96.214996  96.214996  96.214996   37432\n",
       "2022-11-02  96.217499  96.217499  96.212502  96.217499  96.217499  137926\n",
       "2022-11-03  96.217499  96.217499  96.214996  96.214996  96.214996   47799\n",
       "2022-11-04  96.214996  96.217499  96.212502  96.214996  96.214996   40467\n",
       "2022-11-07  96.214996  96.217499  96.214996  96.214996  96.214996    7539\n",
       "2022-11-08  96.214996  96.217499  96.214996  96.217499  96.217499    7539"
      ]
     },
     "execution_count": 18,
     "metadata": {},
     "output_type": "execute_result"
    }
   ],
   "source": [
    "futures_data.index = pd.to_datetime(futures_data.index)\n",
    "futures_data.tail(10)"
   ]
  },
  {
   "cell_type": "code",
   "execution_count": 4,
   "metadata": {},
   "outputs": [
    {
     "ename": "IndexError",
     "evalue": "list index out of range",
     "output_type": "error",
     "traceback": [
      "\u001b[0;31m---------------------------------------------------------------------------\u001b[0m",
      "\u001b[0;31mIndexError\u001b[0m                                Traceback (most recent call last)",
      "Cell \u001b[0;32mIn [4], line 2\u001b[0m\n\u001b[1;32m      1\u001b[0m ticker\u001b[38;5;241m.\u001b[39mheaders \u001b[38;5;241m=\u001b[39m {\u001b[38;5;124m'\u001b[39m\u001b[38;5;124mUser-Agent\u001b[39m\u001b[38;5;124m'\u001b[39m: \u001b[38;5;124m'\u001b[39m\u001b[38;5;124mFirefox\u001b[39m\u001b[38;5;124m'\u001b[39m}\n\u001b[0;32m----> 2\u001b[0m \u001b[43mticker\u001b[49m\u001b[38;5;241;43m.\u001b[39;49m\u001b[43mget_all_data\u001b[49m\u001b[43m(\u001b[49m\u001b[43m)\u001b[49m\n",
      "File \u001b[0;32m~/opt/anaconda3/lib/python3.8/site-packages/pandas_datareader/yahoo/options.py:620\u001b[0m, in \u001b[0;36mOptions.get_all_data\u001b[0;34m(self, call, put)\u001b[0m\n\u001b[1;32m    573\u001b[0m \u001b[39mdef\u001b[39;00m \u001b[39mget_all_data\u001b[39m(\u001b[39mself\u001b[39m, call\u001b[39m=\u001b[39m\u001b[39mTrue\u001b[39;00m, put\u001b[39m=\u001b[39m\u001b[39mTrue\u001b[39;00m):\n\u001b[1;32m    574\u001b[0m     \u001b[39m\"\"\"\u001b[39;00m\n\u001b[1;32m    575\u001b[0m \u001b[39m    ***Experimental***\u001b[39;00m\n\u001b[1;32m    576\u001b[0m \u001b[39m    Gets either call, put, or both data for all available months starting\u001b[39;00m\n\u001b[0;32m   (...)\u001b[0m\n\u001b[1;32m    617\u001b[0m \u001b[39m          on Yahoo and may change.\u001b[39;00m\n\u001b[1;32m    618\u001b[0m \u001b[39m    \"\"\"\u001b[39;00m\n\u001b[0;32m--> 620\u001b[0m     \u001b[39mreturn\u001b[39;00m \u001b[39mself\u001b[39;49m\u001b[39m.\u001b[39;49m_load_data()\n",
      "File \u001b[0;32m~/opt/anaconda3/lib/python3.8/site-packages/pandas_datareader/yahoo/options.py:854\u001b[0m, in \u001b[0;36mOptions._load_data\u001b[0;34m(self, exp_dates)\u001b[0m\n\u001b[1;32m    852\u001b[0m \u001b[39mtry\u001b[39;00m:\n\u001b[1;32m    853\u001b[0m     \u001b[39mif\u001b[39;00m exp_dates \u001b[39mis\u001b[39;00m \u001b[39mNone\u001b[39;00m:\n\u001b[0;32m--> 854\u001b[0m         exp_dates \u001b[39m=\u001b[39m \u001b[39mself\u001b[39;49m\u001b[39m.\u001b[39;49m_get_expiry_dates()\n\u001b[1;32m    855\u001b[0m     exp_unix_times \u001b[39m=\u001b[39m [\n\u001b[1;32m    856\u001b[0m         \u001b[39mint\u001b[39m(\n\u001b[1;32m    857\u001b[0m             (\n\u001b[0;32m   (...)\u001b[0m\n\u001b[1;32m    861\u001b[0m         \u001b[39mfor\u001b[39;00m exp_date \u001b[39min\u001b[39;00m exp_dates\n\u001b[1;32m    862\u001b[0m     ]\n\u001b[1;32m    863\u001b[0m     \u001b[39mfor\u001b[39;00m exp_date \u001b[39min\u001b[39;00m exp_unix_times:\n",
      "File \u001b[0;32m~/opt/anaconda3/lib/python3.8/site-packages/pandas_datareader/yahoo/options.py:685\u001b[0m, in \u001b[0;36mOptions._get_expiry_dates\u001b[0;34m(self)\u001b[0m\n\u001b[1;32m    680\u001b[0m url \u001b[39m=\u001b[39m \u001b[39mself\u001b[39m\u001b[39m.\u001b[39m_OPTIONS_BASE_URL\u001b[39m.\u001b[39mformat(sym\u001b[39m=\u001b[39m\u001b[39mself\u001b[39m\u001b[39m.\u001b[39msymbol)\n\u001b[1;32m    681\u001b[0m jd \u001b[39m=\u001b[39m \u001b[39mself\u001b[39m\u001b[39m.\u001b[39m_parse_url(url)\n\u001b[1;32m    683\u001b[0m expiry_dates \u001b[39m=\u001b[39m [\n\u001b[1;32m    684\u001b[0m     dt\u001b[39m.\u001b[39mdatetime\u001b[39m.\u001b[39mutcfromtimestamp(ts)\u001b[39m.\u001b[39mdate()\n\u001b[0;32m--> 685\u001b[0m     \u001b[39mfor\u001b[39;00m ts \u001b[39min\u001b[39;00m jd[\u001b[39m\"\u001b[39;49m\u001b[39moptionChain\u001b[39;49m\u001b[39m\"\u001b[39;49m][\u001b[39m\"\u001b[39;49m\u001b[39mresult\u001b[39;49m\u001b[39m\"\u001b[39;49m][\u001b[39m0\u001b[39;49m][\u001b[39m\"\u001b[39m\u001b[39mexpirationDates\u001b[39m\u001b[39m\"\u001b[39m]\n\u001b[1;32m    686\u001b[0m ]\n\u001b[1;32m    688\u001b[0m \u001b[39mif\u001b[39;00m \u001b[39mlen\u001b[39m(expiry_dates) \u001b[39m==\u001b[39m \u001b[39m0\u001b[39m:\n\u001b[1;32m    689\u001b[0m     \u001b[39mraise\u001b[39;00m RemoteDataError(\u001b[39m\"\u001b[39m\u001b[39mData not available\u001b[39m\u001b[39m\"\u001b[39m)  \u001b[39m# pragma: no cover\u001b[39;00m\n",
      "\u001b[0;31mIndexError\u001b[0m: list index out of range"
     ]
    }
   ],
   "source": [
    "\n"
   ]
  }
 ],
 "metadata": {
  "kernelspec": {
   "display_name": "Python 3.8.5 ('base')",
   "language": "python",
   "name": "python3"
  },
  "language_info": {
   "codemirror_mode": {
    "name": "ipython",
    "version": 3
   },
   "file_extension": ".py",
   "mimetype": "text/x-python",
   "name": "python",
   "nbconvert_exporter": "python",
   "pygments_lexer": "ipython3",
   "version": "3.8.5"
  },
  "orig_nbformat": 4,
  "vscode": {
   "interpreter": {
    "hash": "299788cdfb4ccb82fb4a8515b6fdc57e1f1020095d820d2e6ce895ac7909e7df"
   }
  }
 },
 "nbformat": 4,
 "nbformat_minor": 2
}
