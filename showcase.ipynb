{
 "cells": [
  {
   "cell_type": "code",
   "execution_count": 73,
   "metadata": {},
   "outputs": [],
   "source": [
    "import sys \n",
    "import numpy as np \n",
    "import pandas as pd \n",
    "import matplotlib.pyplot as plt \n",
    "import seaborn as sns \n",
    "import plotly.express as px\n",
    "import math"
   ]
  },
  {
   "cell_type": "code",
   "execution_count": 8,
   "metadata": {},
   "outputs": [],
   "source": [
    "sys.path.insert(0, '/Users/tima/Documents/GitHub/market_deriative_indexes/utils')\n",
    "from utils.main import Analytics"
   ]
  },
  {
   "cell_type": "code",
   "execution_count": 29,
   "metadata": {},
   "outputs": [],
   "source": [
    "ts1 = '2022-12-14'\n",
    "test = Analytics(ts)\n",
    "ts2 = '2022-09-21'\n",
    "test2 = Analytics(ts2)"
   ]
  },
  {
   "cell_type": "code",
   "execution_count": 19,
   "metadata": {},
   "outputs": [
    {
     "data": {
      "text/html": [
       "<div>\n",
       "<style scoped>\n",
       "    .dataframe tbody tr th:only-of-type {\n",
       "        vertical-align: middle;\n",
       "    }\n",
       "\n",
       "    .dataframe tbody tr th {\n",
       "        vertical-align: top;\n",
       "    }\n",
       "\n",
       "    .dataframe thead th {\n",
       "        text-align: right;\n",
       "    }\n",
       "</style>\n",
       "<table border=\"1\" class=\"dataframe\">\n",
       "  <thead>\n",
       "    <tr style=\"text-align: right;\">\n",
       "      <th></th>\n",
       "      <th>Date</th>\n",
       "      <th>EffectiveFedFundsRate</th>\n",
       "      <th>Hike_Low</th>\n",
       "      <th>Prob_Hike_Low</th>\n",
       "      <th>Range_Hike_Low</th>\n",
       "      <th>Hike_High</th>\n",
       "      <th>Prob_Hike_High</th>\n",
       "      <th>Range_Hike_High</th>\n",
       "    </tr>\n",
       "  </thead>\n",
       "  <tbody>\n",
       "    <tr>\n",
       "      <th>0</th>\n",
       "      <td>2022-12-13</td>\n",
       "      <td>0</td>\n",
       "      <td>0.25</td>\n",
       "      <td>0.37</td>\n",
       "      <td>0.25%-0.5%</td>\n",
       "      <td>0.5</td>\n",
       "      <td>0.63</td>\n",
       "      <td>0.5%-0.75%</td>\n",
       "    </tr>\n",
       "    <tr>\n",
       "      <th>1</th>\n",
       "      <td>2022-12-09</td>\n",
       "      <td>0</td>\n",
       "      <td>0.25</td>\n",
       "      <td>0.65</td>\n",
       "      <td>0.25%-0.5%</td>\n",
       "      <td>0.5</td>\n",
       "      <td>0.35</td>\n",
       "      <td>0.5%-0.75%</td>\n",
       "    </tr>\n",
       "    <tr>\n",
       "      <th>2</th>\n",
       "      <td>2022-12-09</td>\n",
       "      <td>0</td>\n",
       "      <td>0.25</td>\n",
       "      <td>0.65</td>\n",
       "      <td>0.25%-0.5%</td>\n",
       "      <td>0.5</td>\n",
       "      <td>0.35</td>\n",
       "      <td>0.5%-0.75%</td>\n",
       "    </tr>\n",
       "    <tr>\n",
       "      <th>3</th>\n",
       "      <td>2022-12-07</td>\n",
       "      <td>0</td>\n",
       "      <td>0.25</td>\n",
       "      <td>0.76</td>\n",
       "      <td>0.25%-0.5%</td>\n",
       "      <td>0.5</td>\n",
       "      <td>0.24</td>\n",
       "      <td>0.5%-0.75%</td>\n",
       "    </tr>\n",
       "    <tr>\n",
       "      <th>4</th>\n",
       "      <td>2022-11-30</td>\n",
       "      <td>3.83</td>\n",
       "      <td>7.25</td>\n",
       "      <td>0.00</td>\n",
       "      <td>11.0%-11.25%</td>\n",
       "      <td>7.5</td>\n",
       "      <td>1.00</td>\n",
       "      <td>11.25%-11.5%</td>\n",
       "    </tr>\n",
       "  </tbody>\n",
       "</table>\n",
       "</div>"
      ],
      "text/plain": [
       "         Date EffectiveFedFundsRate  Hike_Low  Prob_Hike_Low Range_Hike_Low  \\\n",
       "0  2022-12-13                     0      0.25           0.37     0.25%-0.5%   \n",
       "1  2022-12-09                     0      0.25           0.65     0.25%-0.5%   \n",
       "2  2022-12-09                     0      0.25           0.65     0.25%-0.5%   \n",
       "3  2022-12-07                     0      0.25           0.76     0.25%-0.5%   \n",
       "4  2022-11-30                  3.83      7.25           0.00   11.0%-11.25%   \n",
       "\n",
       "   Hike_High  Prob_Hike_High Range_Hike_High  \n",
       "0        0.5            0.63      0.5%-0.75%  \n",
       "1        0.5            0.35      0.5%-0.75%  \n",
       "2        0.5            0.35      0.5%-0.75%  \n",
       "3        0.5            0.24      0.5%-0.75%  \n",
       "4        7.5            1.00    11.25%-11.5%  "
      ]
     },
     "execution_count": 19,
     "metadata": {},
     "output_type": "execute_result"
    }
   ],
   "source": [
    "df"
   ]
  },
  {
   "cell_type": "code",
   "execution_count": null,
   "metadata": {},
   "outputs": [],
   "source": [
    "EFFR = 3.83\n",
    "\n",
    "low_EFFR = math.floor(EFFR / .25) * 0.25\n",
    "up_EFFR = low_EFFR + 0.25\n",
    "\n",
    "lower_hike = math.floor(PH) * 0.25\n",
    "upper_hike = lower_hike + 0.25\n",
    "\n",
    "\n",
    "#P_upper = round(PH % 1, 2)\n",
    "#P_lower = round(1- P_upper, 2)\n",
    "\n",
    "\n",
    "lower_range = f'{low_EFFR + lower_hike}%-{up_EFFR + lower_hike}%'\n",
    "upper_range = f'{low_EFFR + upper_hike}%-{up_EFFR + upper_hike}%'\n",
    "\n",
    "#res[lower_hike] = {'P':P_lower, 'R':lower_range}\n",
    "#res[upper_hike] = {'P':P_upper, 'R':upper_range}"
   ]
  },
  {
   "cell_type": "code",
   "execution_count": 33,
   "metadata": {},
   "outputs": [
    {
     "data": {
      "text/plain": [
       "{'DT': datetime.datetime(2022, 11, 30, 0, 0),\n",
       " 'STRDT': '2022-11-30',\n",
       " 'FPRICE': 96.21749877929688,\n",
       " 'EFFR': 3.83,\n",
       " 'IMPL_R': 3.782501220703125,\n",
       " 'N': 29,\n",
       " 'M': 30,\n",
       " 'WA': 3.8284167073567708,\n",
       " 'PH': 29.999999999997197,\n",
       " 'RHIKE_PROBS': {7.25: {'P': 0.0, 'R': '11.0%-11.25%'},\n",
       "  7.5: {'P': 1.0, 'R': '11.25%-11.5%'}}}"
      ]
     },
     "execution_count": 33,
     "metadata": {},
     "output_type": "execute_result"
    }
   ],
   "source": [
    "test.days_B_data['2WB']\n",
    "\n",
    "\n"
   ]
  },
  {
   "cell_type": "code",
   "execution_count": 30,
   "metadata": {},
   "outputs": [
    {
     "data": {
      "text/plain": [
       "{'DT': datetime.datetime(2022, 9, 7, 0, 0),\n",
       " 'STRDT': '2022-09-07',\n",
       " 'FPRICE': 0,\n",
       " 'EFFR': 2.33,\n",
       " 'IMPL_R': 100,\n",
       " 'N': 6,\n",
       " 'M': 30,\n",
       " 'WA': 80.466,\n",
       " 'PH': 1.25,\n",
       " 'RHIKE_PROBS': {0.25: {'P': 0.75, 'R': '2.5%-2.75%'},\n",
       "  0.5: {'P': 0.25, 'R': '2.75%-3.0%'}}}"
      ]
     },
     "execution_count": 30,
     "metadata": {},
     "output_type": "execute_result"
    }
   ],
   "source": [
    "test2.days_B_data['2WB']"
   ]
  },
  {
   "cell_type": "code",
   "execution_count": null,
   "metadata": {},
   "outputs": [],
   "source": []
  },
  {
   "cell_type": "markdown",
   "metadata": {},
   "source": []
  },
  {
   "cell_type": "code",
   "execution_count": 16,
   "metadata": {},
   "outputs": [
    {
     "data": {
      "image/png": "[encoded data removed]",
      "text/plain": [
       "<Figure size 640x480 with 1 Axes>"
      ]
     },
     "metadata": {},
     "output_type": "display_data"
    }
   ],
   "source": [
    "ax = sns.barplot(data=pf, x = 'Range', y = 'Prob_Hike', hue = 'Type')"
   ]
  },
  {
   "cell_type": "code",
   "execution_count": 19,
   "metadata": {},
   "outputs": [
    {
     "data": {
      "image/png": "[encoded data removed]",
      "text/plain": [
       "<Figure size 640x480 with 1 Axes>"
      ]
     },
     "metadata": {},
     "output_type": "display_data"
    }
   ],
   "source": [
    "ax = sns.barplot(data=pf, x = 'Hike', y = 'Prob_Hike', hue = 'Type')"
   ]
  },
  {
   "cell_type": "code",
   "execution_count": 36,
   "metadata": {},
   "outputs": [
    {
     "data": {
      "text/plain": [
       "0.1672398190045249"
      ]
     },
     "execution_count": 36,
     "metadata": {},
     "output_type": "execute_result"
    }
   ],
   "source": [
    "4.620/(3.875*13) * 31/17    "
   ]
  },
  {
   "cell_type": "code",
   "execution_count": 117,
   "metadata": {},
   "outputs": [
    {
     "data": {
      "text/plain": [
       "55.5"
      ]
     },
     "execution_count": 117,
     "metadata": {},
     "output_type": "execute_result"
    }
   ],
   "source": [
    "IMPL = 100 - 95.8825 #ZQZ22\n",
    "#IMPL = 100 - 95.280 #ZQ=F\n",
    "EFFR = 3.83\n",
    "N = 14\n",
    "M = 31\n",
    "# actual hike \n",
    "50 * 0.78 + 75 * 0.22"
   ]
  },
  {
   "cell_type": "code",
   "execution_count": 118,
   "metadata": {},
   "outputs": [
    {
     "data": {
      "text/plain": [
       "4.340914825460217"
      ]
     },
     "execution_count": 118,
     "metadata": {},
     "output_type": "execute_result"
    }
   ],
   "source": [
    "R_new = M/(M-N) * IMPL/(N * EFFR)\n",
    "R_new * M"
   ]
  },
  {
   "cell_type": "code",
   "execution_count": 128,
   "metadata": {},
   "outputs": [
    {
     "data": {
      "text/plain": [
       "2.043659301840865"
      ]
     },
     "execution_count": 128,
     "metadata": {},
     "output_type": "execute_result"
    }
   ],
   "source": [
    "R_new = (M/(M- N) * M/N * IMPL/EFFR - EFFR)/.25\n",
    "R_new"
   ]
  },
  {
   "cell_type": "code",
   "execution_count": 120,
   "metadata": {},
   "outputs": [
    {
     "data": {
      "text/plain": [
       "4.354264705882366"
      ]
     },
     "execution_count": 120,
     "metadata": {},
     "output_type": "execute_result"
    }
   ],
   "source": [
    "R_new = (IMPL - (N/M) * EFFR) * (M/(M-N))\n",
    "R_new"
   ]
  },
  {
   "cell_type": "code",
   "execution_count": 121,
   "metadata": {},
   "outputs": [
    {
     "data": {
      "text/plain": [
       "4.354264705882365"
      ]
     },
     "execution_count": 121,
     "metadata": {},
     "output_type": "execute_result"
    }
   ],
   "source": [
    "R_new = (IMPL * M - N * EFFR)/(M-N)\n",
    "R_new"
   ]
  },
  {
   "cell_type": "code",
   "execution_count": 122,
   "metadata": {},
   "outputs": [
    {
     "data": {
      "text/plain": [
       "4.25"
      ]
     },
     "execution_count": 122,
     "metadata": {},
     "output_type": "execute_result"
    }
   ],
   "source": [
    "math.floor(R_new / 0.25) * 0.25"
   ]
  },
  {
   "cell_type": "code",
   "execution_count": 123,
   "metadata": {},
   "outputs": [
    {
     "data": {
      "text/plain": [
       "4.5"
      ]
     },
     "execution_count": 123,
     "metadata": {},
     "output_type": "execute_result"
    }
   ],
   "source": [
    "math.ceil(R_new / 0.25) * 0.25"
   ]
  },
  {
   "cell_type": "code",
   "execution_count": 124,
   "metadata": {},
   "outputs": [],
   "source": [
    "PH = R_new - EFFR"
   ]
  },
  {
   "cell_type": "code",
   "execution_count": 125,
   "metadata": {},
   "outputs": [
    {
     "data": {
      "text/plain": [
       "2.0970588235294585"
      ]
     },
     "execution_count": 125,
     "metadata": {},
     "output_type": "execute_result"
    }
   ],
   "source": [
    "PH / .25"
   ]
  },
  {
   "cell_type": "code",
   "execution_count": 115,
   "metadata": {},
   "outputs": [
    {
     "data": {
      "text/plain": [
       "437.5"
      ]
     },
     "execution_count": 115,
     "metadata": {},
     "output_type": "execute_result"
    }
   ],
   "source": [
    "(450 + 425 )/2"
   ]
  },
  {
   "cell_type": "code",
   "execution_count": null,
   "metadata": {},
   "outputs": [],
   "source": []
  }
 ],
 "metadata": {
  "kernelspec": {
   "display_name": "Python 3.8.5 ('base')",
   "language": "python",
   "name": "python3"
  },
  "language_info": {
   "codemirror_mode": {
    "name": "ipython",
    "version": 3
   },
   "file_extension": ".py",
   "mimetype": "text/x-python",
   "name": "python",
   "nbconvert_exporter": "python",
   "pygments_lexer": "ipython3",
   "version": "3.8.5"
  },
  "orig_nbformat": 4,
  "vscode": {
   "interpreter": {
    "hash": "299788cdfb4ccb82fb4a8515b6fdc57e1f1020095d820d2e6ce895ac7909e7df"
   }
  }
 },
 "nbformat": 4,
 "nbformat_minor": 2
}
